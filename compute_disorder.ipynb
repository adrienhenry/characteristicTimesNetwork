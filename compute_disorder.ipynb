{
 "cells": [
  {
   "cell_type": "markdown",
   "metadata": {
    "ein.tags": [
     "worksheet-0"
    ]
   },
   "source": [
    "# Compute disorder "
   ]
  },
  {
   "cell_type": "markdown",
   "metadata": {
    "ein.tags": [
     "worksheet-0"
    ]
   },
   "source": [
    "## Import the libraries ##"
   ]
  },
  {
   "cell_type": "code",
   "execution_count": 1,
   "metadata": {
    "autoscroll": "json-false",
    "collapsed": false,
    "ein.tags": [
     "worksheet-0"
    ]
   },
   "outputs": [],
   "source": [
    "%matplotlib inline\n",
    "\n",
    "from LinearChain import *\n",
    "import matplotlib.pyplot as plt\n",
    "from matplotlib import rc\n",
    "from scipy.integrate import ode\n",
    "from scipy.integrate import quad\n",
    "from scipy import stats\n",
    "import numpy as np\n",
    "import multiprocessing as mp\n",
    "exec(open(\"fig_settings.py\").read())"
   ]
  },
  {
   "cell_type": "markdown",
   "metadata": {
    "ein.tags": [
     "worksheet-0"
    ]
   },
   "source": [
    "## Global parameters ##\n",
    "\n",
    "The parameter *std_dev_rel* defines the intencity of the desorder.\n",
    "- a is the reference forward rate\n",
    "- b is the reference backward rate"
   ]
  },
  {
   "cell_type": "code",
   "execution_count": 2,
   "metadata": {
    "autoscroll": "json-false",
    "collapsed": false,
    "ein.tags": [
     "worksheet-0"
    ]
   },
   "outputs": [],
   "source": [
    "samples = 1000\n",
    "a = 2\n",
    "b = 1\n",
    "std_dev_rel = 0.7\n",
    "def µ_and_σ(x,std_dev_rel):\n",
    "    variance_rel = std_dev_rel**2\n",
    "    σ_x_square = np.log(1 + (variance_rel*x**2)/(x**2))\n",
    "    µ_x = np.log(x) - 0.5*(σ_x_square)\n",
    "    σ_x = np.sqrt(σ_x_square)\n",
    "    return(µ_x,σ_x)"
   ]
  },
  {
   "cell_type": "markdown",
   "metadata": {
    "ein.tags": [
     "worksheet-0"
    ]
   },
   "source": [
    "The run is a bit long so it is preferable to load a multiprocessing library.\n",
    "\n",
    "The function *compute_one_time* generates random parameters. the random parameters are distributed according a log-normal law because we want them to be positive."
   ]
  },
  {
   "cell_type": "code",
   "execution_count": 3,
   "metadata": {
    "autoscroll": "json-false",
    "collapsed": false,
    "ein.tags": [
     "worksheet-0"
    ]
   },
   "outputs": [],
   "source": [
    "q = mp.Queue()\n",
    "def compute_one_time(q,n,disorder):\n",
    "    µ_a = disorder[0]\n",
    "    σ_a = disorder[1]\n",
    "    µ_b = disorder[2]\n",
    "    σ_b = disorder[3]\n",
    "    As = np.random.lognormal(µ_a,σ_a,n+1)            \n",
    "    Bs = np.random.lognormal(µ_b,σ_b,n+1)         \n",
    "    param_perturb = np.ravel(np.transpose([As,Bs]))         \n",
    "    J = np.array(compute_jacobian(n,param_perturb))\n",
    "    tau = compute_tau(J)[0]\n",
    "    T = compute_lifetime(J,1)    \n",
    "    q.put((tau,T))\n",
    "q = mp.Queue()"
   ]
  },
  {
   "cell_type": "markdown",
   "metadata": {
    "ein.tags": [
     "worksheet-0"
    ]
   },
   "source": [
    "## Run with a disorder of 70% ##"
   ]
  },
  {
   "cell_type": "code",
   "execution_count": 4,
   "metadata": {
    "autoscroll": "json-false",
    "collapsed": false,
    "ein.tags": [
     "worksheet-0"
    ]
   },
   "outputs": [
    {
     "name": "stdout",
     "output_type": "stream",
     "text": [
      "Chain length: 2\n",
      "Chain length: 7\n",
      "Chain length: 12\n",
      "Chain length: 17\n",
      "Chain length: 22\n",
      "Chain length: 27\n",
      "Chain length: 32\n",
      "Chain length: 37\n",
      "Chain length: 42\n",
      "Chain length: 47\n",
      "Chain length: 52\n",
      "Chain length: 57\n",
      "Chain length: 62\n",
      "Chain length: 67\n",
      "Chain length: 72\n",
      "Chain length: 77\n"
     ]
    }
   ],
   "source": [
    "sizes = []\n",
    "tau_ref = []\n",
    "tau_perturb_70 = []\n",
    "T_perturb_70 = []\n",
    "µ_a,σ_a = µ_and_σ(a,0.7)\n",
    "µ_b,σ_b = µ_and_σ(b,0.7)\n",
    "disorder = [µ_a,σ_a,µ_b,σ_b]\n",
    "T_ref = []\n",
    "tau_ref = []\n",
    "for n in range(2,80,5):\n",
    "    sizes.append(n)\n",
    "    param = [a,b]*(n+1)\n",
    "    Jref = np.array(compute_jacobian(n,param))\n",
    "    T_ref.append(compute_lifetime(Jref,1))\n",
    "    tau_ref.append(1/(a+b - 2*np.sqrt(a*b)*np.cos(np.pi/(n+1))))\n",
    "    print(\"Chain length: %d\"%n)\n",
    "    tauTemp = np.array([])\n",
    "    TTemp = np.array([])\n",
    "    i=0    \n",
    "    while i < samples:\n",
    "         montecarlos = [compute_one_time(q,n,disorder) for fargs in range(10)]\n",
    "         jobs = [mp.Process(mc) for mc in montecarlos]\n",
    "         for job in jobs: job.start()\n",
    "         for job in jobs: job.join()\n",
    "         results1 = np.squeeze([q.get() for mc in montecarlos])\n",
    "         results1[results1!=0]         \n",
    "         tauTemp = np.append(tauTemp,results1[:,0])\n",
    "         TTemp = np.append(TTemp,results1[:,1])         \n",
    "         i += len(results1)    \n",
    "    tau_perturb_70.append(np.array(tauTemp))\n",
    "    T_perturb_70.append(np.array(TTemp))\n",
    "tau_perturb_70 = np.array(tau_perturb_70)\n",
    "T_perturb_70 = np.array(T_perturb_70)"
   ]
  },
  {
   "cell_type": "markdown",
   "metadata": {
    "ein.tags": [
     "worksheet-0"
    ]
   },
   "source": [
    "### Analysis  ###"
   ]
  },
  {
   "cell_type": "code",
   "execution_count": 5,
   "metadata": {
    "autoscroll": "json-false",
    "collapsed": false,
    "ein.tags": [
     "worksheet-0"
    ]
   },
   "outputs": [],
   "source": [
    "results_tau_70 = np.apply_along_axis(lambda x:confidence_interval(x,0.682),1,tau_perturb_70)\n",
    "results_T_70 = np.apply_along_axis(lambda x:confidence_interval(x,0.682),1,T_perturb_70)\n"
   ]
  },
  {
   "cell_type": "markdown",
   "metadata": {
    "ein.tags": [
     "worksheet-0"
    ]
   },
   "source": [
    "## Run with a disorder of 30% ##"
   ]
  },
  {
   "cell_type": "code",
   "execution_count": 6,
   "metadata": {
    "autoscroll": "json-false",
    "collapsed": false,
    "ein.tags": [
     "worksheet-0"
    ]
   },
   "outputs": [
    {
     "name": "stdout",
     "output_type": "stream",
     "text": [
      "Chain length: 2\n",
      "Chain length: 7\n",
      "Chain length: 12\n",
      "Chain length: 17\n",
      "Chain length: 22\n",
      "Chain length: 27\n",
      "Chain length: 32\n",
      "Chain length: 37\n",
      "Chain length: 42\n",
      "Chain length: 47\n",
      "Chain length: 52\n",
      "Chain length: 57\n",
      "Chain length: 62\n",
      "Chain length: 67\n",
      "Chain length: 72\n",
      "Chain length: 77\n"
     ]
    }
   ],
   "source": [
    "sizes = []\n",
    "tau_ref = []\n",
    "tau_perturb_30 = []\n",
    "T_perturb_30 = []\n",
    "µ_a,σ_a = µ_and_σ(a,0.3)\n",
    "µ_b,σ_b = µ_and_σ(b,0.3)\n",
    "disorder = [µ_a,σ_a,µ_b,σ_b]\n",
    "T_ref = []\n",
    "tau_ref = []\n",
    "for n in range(2,80,5):\n",
    "    sizes.append(n)\n",
    "    param = [a,b]*(n+1)\n",
    "    Jref = np.array(compute_jacobian(n,param))\n",
    "    T_ref.append(compute_lifetime(Jref,1))\n",
    "    tau_ref.append(1/(a+b - 2*np.sqrt(a*b)*np.cos(np.pi/(n+1))))\n",
    "    print(\"Chain length: %d\"%n)\n",
    "    tauTemp = np.array([])\n",
    "    TTemp = np.array([])\n",
    "    i=0    \n",
    "    while i < samples:\n",
    "         montecarlos = [compute_one_time(q,n,disorder) for fargs in range(10)]\n",
    "         jobs = [mp.Process(mc) for mc in montecarlos]\n",
    "         for job in jobs: job.start()\n",
    "         for job in jobs: job.join()\n",
    "         results1 = np.squeeze([q.get() for mc in montecarlos])\n",
    "         results1[results1!=0]         \n",
    "         tauTemp = np.append(tauTemp,results1[:,0])\n",
    "         TTemp = np.append(TTemp,results1[:,1])         \n",
    "         i += len(results1)    \n",
    "    tau_perturb_30.append(np.array(tauTemp))\n",
    "    T_perturb_30.append(np.array(TTemp))\n",
    "tau_perturb_30 = np.array(tau_perturb_30)\n",
    "T_perturb_30 = np.array(T_perturb_30)"
   ]
  },
  {
   "cell_type": "code",
   "execution_count": 7,
   "metadata": {
    "autoscroll": "json-false",
    "collapsed": false,
    "ein.tags": [
     "worksheet-0"
    ]
   },
   "outputs": [],
   "source": [
    "results_tau_30 = np.apply_along_axis(lambda x:confidence_interval(x,0.682),1,tau_perturb_30)\n",
    "results_T_30 = np.apply_along_axis(lambda x:confidence_interval(x,0.682),1,T_perturb_30)"
   ]
  },
  {
   "cell_type": "code",
   "execution_count": 8,
   "metadata": {
    "autoscroll": "json-false",
    "collapsed": false,
    "ein.tags": [
     "worksheet-0"
    ]
   },
   "outputs": [
    {
     "data": {
      "image/png": "[encoded data removed]",
      "text/plain": [
       "<matplotlib.figure.Figure at 0x7f1ffbc14a20>"
      ]
     },
     "metadata": {},
     "output_type": "display_data"
    }
   ],
   "source": [
    "ms_size=6\n",
    "rc('lines',markersize=3.3)\n",
    "rc('lines',linewidth=0.5)\n",
    "\n",
    "fig = plt.figure()\n",
    "ax = fig.add_axes([0.11, 0.15, 0.86, 0.84])\n",
    "ax.yaxis.labelpad = 4\n",
    "ax.xaxis.labelpad = 0\n",
    "ax.yaxis.tick_left()\n",
    "ax.xaxis.tick_bottom()\n",
    "ax.errorbar(sizes,results_T_70[:,0],yerr=[results_T_70[:,1],results_T_70[:,2]],markeredgecolor=mygreen,marker=\"s\",fmt='o',capsize=2,label=r\"$\\langle T\\rangle_{70\\%}$\",color=mygreen)\n",
    "ax.errorbar(sizes,results_T_30[:,0],yerr=[results_T_30[:,1],results_T_30[:,2]],markeredgecolor=mygreen,marker=\"s\",fmt='o',capsize=2,label=r\"$\\langle T\\rangle_{30\\%}$\",color=myblue)\n",
    "\n",
    "ax.scatter(sizes,T_ref,label=r\"$T_{\\mbox{ref}}$\",s=ms_size,color = myred)\n",
    "\n",
    "ax.set_xlabel(r\"$N$\")\n",
    "ax.yaxis.labelpad = 4\n",
    "ax.xaxis.labelpad = 2\n",
    "\n",
    "vec = np.ravel([results_T_70[:,0]+results_T_70[:,2],results_T_30[:,0]+results_T_30[:,2],T_ref])\n",
    "ylim_up = np.max(vec)*1.05\n",
    "ylim_down = np.min(vec)*0.9\n",
    "ax.set_xlim([sizes[0]-2,sizes[-1]+2])\n",
    "ax.set_ylim([0,ylim_up])\n",
    "ax.set_ylabel(r\"$T$\",rotation=0)\n",
    "ax.legend(loc=2,frameon=0,framealpha=0,ncol=1)\n",
    "\n",
    "\n",
    "fig.savefig(\"figures/disorder_T.png\")\n"
   ]
  },
  {
   "cell_type": "code",
   "execution_count": 9,
   "metadata": {
    "autoscroll": "json-false",
    "collapsed": false,
    "ein.tags": [
     "worksheet-0"
    ]
   },
   "outputs": [
    {
     "data": {
      "image/png": "[encoded data removed]",
      "text/plain": [
       "<matplotlib.figure.Figure at 0x7f1ffb2ed438>"
      ]
     },
     "metadata": {},
     "output_type": "display_data"
    }
   ],
   "source": [
    "ms_size=6\n",
    "rc('lines',markersize=3.3)\n",
    "rc('lines',linewidth=0.5)\n",
    "\n",
    "fig = plt.figure()\n",
    "ax = fig.add_axes([0.11, 0.15, 0.86, 0.84])\n",
    "ax.yaxis.labelpad = 4\n",
    "ax.xaxis.labelpad = 0\n",
    "ax.yaxis.tick_left()\n",
    "ax.xaxis.tick_bottom()\n",
    "ax.errorbar(sizes,results_tau_70[:,0],yerr=[results_tau_70[:,1],results_tau_70[:,2]],markeredgecolor=mygreen,marker=\"s\",fmt='o',capsize=2,label=r\"$\\langle \\tau\\rangle_{70\\%}$\",color=mygreen)\n",
    "ax.errorbar(sizes,results_tau_30[:,0],yerr=[results_tau_30[:,1],results_tau_30[:,2]],markeredgecolor=mygreen,marker=\"s\",fmt='o',capsize=2,label=r\"$\\langle \\tau\\rangle_{30\\%}$\",color=myblue)\n",
    "\n",
    "ax.scatter(sizes,tau_ref,label=r\"$\\tau_{\\mbox{ref}}$\",s=ms_size,color = myred)\n",
    "\n",
    "ax.set_xlabel(r\"$N$\")\n",
    "ax.yaxis.labelpad = 4\n",
    "ax.xaxis.labelpad = 2\n",
    "\n",
    "vec = np.ravel([results_tau_70[:,0]+results_tau_70[:,2],results_tau_30[:,0]+results_tau_30[:,2],tau_ref])\n",
    "ylim_up = np.max(vec)*1.05\n",
    "ylim_down = np.min(vec)*0.9\n",
    "ax.set_xlim([sizes[0]-2,sizes[-1]+2])\n",
    "ax.set_ylim([0,ylim_up])\n",
    "ax.set_ylabel(r\"$\\tau$\",rotation=0)\n",
    "ax.legend(loc=2,frameon=0,framealpha=0,ncol=1)\n",
    "\n",
    "\n",
    "fig.savefig(\"figures/disorder_tau.png\")"
   ]
  },
  {
   "cell_type": "code",
   "execution_count": null,
   "metadata": {
    "collapsed": true
   },
   "outputs": [],
   "source": []
  }
 ],
 "metadata": {
  "kernelspec": {
   "display_name": "Python 3",
   "language": "python",
   "name": "python3"
  },
  "language_info": {
   "codemirror_mode": {
    "name": "ipython",
    "version": 3
   },
   "file_extension": ".py",
   "mimetype": "text/x-python",
   "name": "python",
   "nbconvert_exporter": "python",
   "pygments_lexer": "ipython3",
   "version": "3.4.3"
  },
  "name": "compute_disorder.ipynb"
 },
 "nbformat": 4,
 "nbformat_minor": 0
}
