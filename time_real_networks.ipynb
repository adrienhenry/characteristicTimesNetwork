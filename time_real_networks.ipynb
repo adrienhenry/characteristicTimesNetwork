{
 "cells": [
  {
   "cell_type": "markdown",
   "metadata": {
    "ein.tags": [
     "worksheet-0"
    ]
   },
   "source": [
    "## Characteristic times in real networks ##"
   ]
  },
  {
   "cell_type": "code",
   "execution_count": 1,
   "metadata": {
    "autoscroll": "json-false",
    "collapsed": false,
    "ein.tags": [
     "worksheet-0"
    ]
   },
   "outputs": [],
   "source": [
    "from imp import reload\n",
    "import re\n",
    "import numpy as np\n",
    "from scipy.integrate import ode\n",
    "\n",
    "import NetworkComponents"
   ]
  },
  {
   "cell_type": "markdown",
   "metadata": {
    "ein.tags": [
     "worksheet-0"
    ]
   },
   "source": [
    "## Model Chassagnole2002##"
   ]
  },
  {
   "cell_type": "markdown",
   "metadata": {
    "ein.tags": [
     "worksheet-0"
    ]
   },
   "source": [
    "Create a new network object and load the informations from the model Chassagnole2002.\n",
    "In the original model, the concentration of the coffactors depends explicitly on the time. To obtain steady state it is necessary to get rid of this explicit dependence, instead the concentrations of those coffactors are defined as constants.\n",
    "Also the Phosphotransferase system reactions has an unbalanced stoichiometry different from its actual stoichiometry. In the studied model, the stoichiometry is rectified but to maintain the rate to the author's choice, the $r_{max}^{PTS}$ is scaled by a factor 65.\n",
    "The file [Chassagnole2002_info.csv](./published_models/Chassagnole2002_info.csv) contains the information about the number of carbons constituing each metabolite and it tells us wich metabolite exchange labelled carbons. A metabolite that do not echange labelled carbons behaves as sink, it is an exit for the system."
   ]
  },
  {
   "cell_type": "code",
   "execution_count": 2,
   "metadata": {
    "autoscroll": "json-false",
    "collapsed": false,
    "ein.tags": [
     "worksheet-0"
    ]
   },
   "outputs": [],
   "source": [
    "chassagnole = NetworkComponents.Network(\"chassagnole2002\")\n",
    "chassagnole.readSBML(\"./published_models/Chassagnole2002.xml\")\n",
    "chassagnole.readInformations(\"./published_models/Chassagnole2002_info.csv\")"
   ]
  },
  {
   "cell_type": "markdown",
   "metadata": {
    "ein.tags": [
     "worksheet-0"
    ]
   },
   "source": [
    " A *Network* object containts other objects stored in arrays:\n",
    "- *chassagnole.compartments* contains the *Compartment* objects\n",
    "- *chassagnole.metabolites* contains the *Metabolite* objects\n",
    "- *chassagnole.reactions* contains the *Reaction* objects\n",
    "- *chassagnole.parameters* contains the *Parameters* objects\n",
    "- *chassagnole.functionDefinitions* contains the *FunctionDefinitions* objects"
   ]
  },
  {
   "cell_type": "markdown",
   "metadata": {
    "ein.tags": [
     "worksheet-0"
    ]
   },
   "source": [
    "### Separate the forward and backward fluxes ###\n",
    "\n",
    "To derive the tracer dynamics, one need to know the values of the forard and the backward values of the reactions. The function *separateForwardBackwardFluxes* perform this separation of a rate law from the original model into two new rate laws; one accounts for the forward rate and the second accounts for the backward rate.\n",
    "\n",
    "The function *updateNetwork* compiles the network to assign an index and a formula to every reactions and species. After this step it is possible to create the derivative function for the concentration vector.\n"
   ]
  },
  {
   "cell_type": "code",
   "execution_count": 3,
   "metadata": {
    "autoscroll": "json-false",
    "collapsed": false,
    "ein.tags": [
     "worksheet-0"
    ]
   },
   "outputs": [],
   "source": [
    "chassagnole.separateForwardBackwardFluxes()\n",
    "chassagnole.updateNetwork()\n",
    "chassagnole.generateDerivatives()\n",
    "chassagnole.generateRates()\n",
    "chassagnole.testCarbonBalance()"
   ]
  },
  {
   "cell_type": "markdown",
   "metadata": {
    "ein.tags": [
     "worksheet-0"
    ]
   },
   "source": [
    "The following calls are required  before generating the jacobians for the tracer and concentration perturbation.\n",
    "- *chassagnole.generateDerivatives()*\n",
    "Generate the derivative function accessible at chassagnole.derivatives\n",
    "- *chassagnole.generateRates()*\n",
    "Generate the rate function accessible at chassagnole.rates\n",
    "- *chassagnole.testCarbonBalance()*\n",
    "Compute the carbon balance of each reaction. Accessible at chassagnole.reactions[i].carbonBalance"
   ]
  },
  {
   "cell_type": "markdown",
   "metadata": {
    "ein.tags": [
     "worksheet-0"
    ]
   },
   "source": [
    "### Jacobians ### "
   ]
  },
  {
   "cell_type": "code",
   "execution_count": 4,
   "metadata": {
    "autoscroll": "json-false",
    "collapsed": false,
    "ein.tags": [
     "worksheet-0"
    ]
   },
   "outputs": [],
   "source": [
    "Jtracer = chassagnole.generateTracerJacobian()"
   ]
  },
  {
   "cell_type": "markdown",
   "metadata": {
    "ein.tags": [
     "worksheet-0"
    ]
   },
   "source": [
    "To find the jacobian that accounts for the tracers dynamics the algorithm first searches for the steady state of the model. At steady state the probability for a labelled molecule $A^t$ to be transformed through a reaction $v^+$ is proportional to the fraction of $A$ that is labelled. The tracer reaction releases labelled carbons that are shared between the substrate of the reaction proportionally to their stoichiometry and to the number of carbons they contain."
   ]
  },
  {
   "cell_type": "code",
   "execution_count": 6,
   "metadata": {
    "autoscroll": "json-false",
    "collapsed": false,
    "ein.tags": [
     "worksheet-0"
    ]
   },
   "outputs": [
    {
     "name": "stdout",
     "output_type": "stream",
     "text": [
      "tau_c = 7.538493 s\n",
      "tau_t = 11.588587 s\n",
      "T_c = 11.127021 s\n",
      "T_t = 35.908990 s\n"
     ]
    }
   ],
   "source": [
    "Jperturbation = chassagnole.generatePerturbationJacobian()\n",
    "tauc,Tc = chassagnole.computeCharacteristicTimes(\"perturbation\",method=\"integration\") \n",
    "taut,Tt = chassagnole.computeCharacteristicTimes(\"tracer\",method=\"inverseJacobian\")\n",
    "print(\"tau_c = %f s\"%(tauc))\n",
    "print(\"tau_t = %f s\"%(taut))\n",
    "print(\"T_c = %f s\"%(Tc))\n",
    "print(\"T_t = %f s\"%(Tt))"
   ]
  },
  {
   "cell_type": "markdown",
   "metadata": {
    "ein.tags": [
     "worksheet-0"
    ]
   },
   "source": [
    "## Model Teusink 2000 ##"
   ]
  },
  {
   "cell_type": "code",
   "execution_count": 7,
   "metadata": {
    "autoscroll": "json-false",
    "collapsed": false,
    "ein.tags": [
     "worksheet-0"
    ]
   },
   "outputs": [
    {
     "name": "stdout",
     "output_type": "stream",
     "text": [
      "tau_c = 6.209024 s\n",
      "tau_t = 3.143291 s\n",
      "T_c = 46.370334 s\n",
      "T_t = 6.605038 s\n"
     ]
    }
   ],
   "source": [
    "teusink = NetworkComponents.Network(\"Teusink2000\")\n",
    "teusink.readSBML(\"./published_models/Teusink2000.xml\")\n",
    "teusink.readInformations(\"./published_models/Teusink2000_info.csv\")\n",
    "teusink.separateForwardBackwardFluxes()\n",
    "teusink.updateNetwork()\n",
    "teusink.generateDerivatives()\n",
    "teusink.generateRates()\n",
    "teusink.testCarbonBalance()\n",
    "Jtracer = teusink.generateTracerJacobian()\n",
    "Jperturbation = teusink.generatePerturbationJacobian()\n",
    "tauc,Tc = teusink.computeCharacteristicTimes(\"perturbation\",method=\"integration\")\n",
    "taut,Tt = teusink.computeCharacteristicTimes(\"tracer\",method=\"integration\")\n",
    "print(\"tau_c = %f s\"%(tauc*60))\n",
    "print(\"tau_t = %f s\"%(taut*60))\n",
    "print(\"T_c = %f s\"%(Tc*60))\n",
    "print(\"T_t = %f s\"%(Tt*60))"
   ]
  },
  {
   "cell_type": "markdown",
   "metadata": {
    "ein.tags": [
     "worksheet-0"
    ]
   },
   "source": [
    "## Model Mosca 2012 ##"
   ]
  },
  {
   "cell_type": "code",
   "execution_count": 8,
   "metadata": {
    "autoscroll": "json-false",
    "collapsed": false,
    "ein.tags": [
     "worksheet-0"
    ]
   },
   "outputs": [
    {
     "name": "stdout",
     "output_type": "stream",
     "text": [
      "tau_c = 5.045739 s\n",
      "tau_t = 0.028349 s\n",
      "T_c = 12.364266 s\n",
      "T_t = 0.109179 s\n"
     ]
    }
   ],
   "source": [
    "mosca = NetworkComponents.Network(\"Mosca2012\")\n",
    "mosca.readSBML(\"./published_models/Mosca2012.xml\")\n",
    "mosca.readInformations(\"./published_models/Mosca2012_info.csv\")\n",
    "mosca.separateForwardBackwardFluxes()\n",
    "mosca.updateNetwork()\n",
    "mosca.generateDerivatives()\n",
    "mosca.generateRates()\n",
    "mosca.testCarbonBalance()\n",
    "Jtracer = mosca.generateTracerJacobian()\n",
    "Jperturbation = mosca.generatePerturbationJacobian()\n",
    "tauc,Tc = mosca.computeCharacteristicTimes(\"perturbation\",method=\"integration\")\n",
    "taut,Tt = mosca.computeCharacteristicTimes(\"tracer\",method=\"inverseJacobian\")\n",
    "print(\"tau_c = %f s\"%(tauc*60))\n",
    "print(\"tau_t = %f s\"%(taut*60))\n",
    "print(\"T_c = %f s\"%(Tc*60))\n",
    "print(\"T_t = %f s\"%(Tt*60))"
   ]
  },
  {
   "cell_type": "markdown",
   "metadata": {
    "ein.tags": [
     "worksheet-0"
    ]
   },
   "source": [
    "## Model Curto 1998 ##"
   ]
  },
  {
   "cell_type": "code",
   "execution_count": 9,
   "metadata": {
    "autoscroll": "json-false",
    "collapsed": false,
    "ein.tags": [
     "worksheet-0"
    ]
   },
   "outputs": [
    {
     "name": "stdout",
     "output_type": "stream",
     "text": [
      "tau_c = 433891.737048 s\n",
      "tau_t = 2715.137142 s\n",
      "T_c = 949889.143941 s\n",
      "T_t = 11824.591391 s\n"
     ]
    }
   ],
   "source": [
    "curto = NetworkComponents.Network(\"Curto1998\")\n",
    "curto.readSBML(\"./published_models/Curto1998.xml\")\n",
    "curto.readInformations(\"./published_models/Curto1998_info.csv\")\n",
    "curto.separateForwardBackwardFluxes()\n",
    "curto.updateNetwork()\n",
    "curto.generateDerivatives()\n",
    "curto.generateRates()\n",
    "curto.testCarbonBalance()\n",
    "Jtracer = curto.generateTracerJacobian()\n",
    "Jperturbation = curto.generatePerturbationJacobian()\n",
    "tauc,Tc = curto.computeCharacteristicTimes(\"perturbation\",method=\"inverseJacobian\")\n",
    "taut,Tt = curto.computeCharacteristicTimes(\"tracer\",method=\"inverseJacobian\")\n",
    "print(\"tau_c = %f s\"%(tauc*60))\n",
    "print(\"tau_t = %f s\"%(taut*60))\n",
    "print(\"T_c = %f s\"%(Tc*60))\n",
    "print(\"T_t = %f s\"%(Tt*60))"
   ]
  },
  {
   "cell_type": "code",
   "execution_count": 0,
   "metadata": {
    "autoscroll": "json-false",
    "collapsed": false,
    "ein.tags": [
     "worksheet-0"
    ]
   },
   "outputs": [],
   "source": []
  }
 ],
 "metadata": {
  "kernelspec": {
   "display_name": "Python 3",
   "language": "python",
   "name": "python3"
  },
  "language_info": {
   "codemirror_mode": {
    "name": "ipython",
    "version": 3
   },
   "file_extension": ".py",
   "mimetype": "text/x-python",
   "name": "python",
   "nbconvert_exporter": "python",
   "pygments_lexer": "ipython3",
   "version": "3.4.3"
  },
  "name": "time_real_networks.ipynb"
 },
 "nbformat": 4,
 "nbformat_minor": 0
}
